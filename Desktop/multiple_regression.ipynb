{
 "cells": [
  {
   "cell_type": "code",
   "execution_count": 63,
   "id": "45b33d11",
   "metadata": {},
   "outputs": [],
   "source": [
    "import pandas\n",
    "from statsmodels.formula.api import ols\n",
    "from patsy.contrasts import Treatment\n",
    "from patsy.contrasts import Helmert\n",
    "\n",
    "url = 'https://stats.idre.ucla.edu/stat/data/hsb2.csv'\n",
    "hsb2 = pandas.read_csv(url)\n",
    "levels = [1,2,3,4]"
   ]
  },
  {
   "cell_type": "code",
   "execution_count": 64,
   "id": "d82c8c42",
   "metadata": {},
   "outputs": [
    {
     "data": {
      "text/plain": [
       "Index(['id', 'female', 'race', 'ses', 'schtyp', 'prog', 'read', 'write',\n",
       "       'math', 'science', 'socst'],\n",
       "      dtype='object')"
      ]
     },
     "execution_count": 64,
     "metadata": {},
     "output_type": "execute_result"
    }
   ],
   "source": [
    "hsb2.columns"
   ]
  },
  {
   "cell_type": "code",
   "execution_count": 65,
   "id": "504b8d34",
   "metadata": {},
   "outputs": [
    {
     "data": {
      "text/html": [
       "<div>\n",
       "<style scoped>\n",
       "    .dataframe tbody tr th:only-of-type {\n",
       "        vertical-align: middle;\n",
       "    }\n",
       "\n",
       "    .dataframe tbody tr th {\n",
       "        vertical-align: top;\n",
       "    }\n",
       "\n",
       "    .dataframe thead th {\n",
       "        text-align: right;\n",
       "    }\n",
       "</style>\n",
       "<table border=\"1\" class=\"dataframe\">\n",
       "  <thead>\n",
       "    <tr style=\"text-align: right;\">\n",
       "      <th></th>\n",
       "      <th>id</th>\n",
       "      <th>female</th>\n",
       "      <th>race</th>\n",
       "      <th>ses</th>\n",
       "      <th>schtyp</th>\n",
       "      <th>prog</th>\n",
       "      <th>read</th>\n",
       "      <th>write</th>\n",
       "      <th>math</th>\n",
       "      <th>science</th>\n",
       "      <th>socst</th>\n",
       "    </tr>\n",
       "  </thead>\n",
       "  <tbody>\n",
       "    <tr>\n",
       "      <th>0</th>\n",
       "      <td>70</td>\n",
       "      <td>0</td>\n",
       "      <td>4</td>\n",
       "      <td>1</td>\n",
       "      <td>1</td>\n",
       "      <td>1</td>\n",
       "      <td>57</td>\n",
       "      <td>52</td>\n",
       "      <td>41</td>\n",
       "      <td>47</td>\n",
       "      <td>57</td>\n",
       "    </tr>\n",
       "    <tr>\n",
       "      <th>1</th>\n",
       "      <td>121</td>\n",
       "      <td>1</td>\n",
       "      <td>4</td>\n",
       "      <td>2</td>\n",
       "      <td>1</td>\n",
       "      <td>3</td>\n",
       "      <td>68</td>\n",
       "      <td>59</td>\n",
       "      <td>53</td>\n",
       "      <td>63</td>\n",
       "      <td>61</td>\n",
       "    </tr>\n",
       "    <tr>\n",
       "      <th>2</th>\n",
       "      <td>86</td>\n",
       "      <td>0</td>\n",
       "      <td>4</td>\n",
       "      <td>3</td>\n",
       "      <td>1</td>\n",
       "      <td>1</td>\n",
       "      <td>44</td>\n",
       "      <td>33</td>\n",
       "      <td>54</td>\n",
       "      <td>58</td>\n",
       "      <td>31</td>\n",
       "    </tr>\n",
       "    <tr>\n",
       "      <th>3</th>\n",
       "      <td>141</td>\n",
       "      <td>0</td>\n",
       "      <td>4</td>\n",
       "      <td>3</td>\n",
       "      <td>1</td>\n",
       "      <td>3</td>\n",
       "      <td>63</td>\n",
       "      <td>44</td>\n",
       "      <td>47</td>\n",
       "      <td>53</td>\n",
       "      <td>56</td>\n",
       "    </tr>\n",
       "    <tr>\n",
       "      <th>4</th>\n",
       "      <td>172</td>\n",
       "      <td>0</td>\n",
       "      <td>4</td>\n",
       "      <td>2</td>\n",
       "      <td>1</td>\n",
       "      <td>2</td>\n",
       "      <td>47</td>\n",
       "      <td>52</td>\n",
       "      <td>57</td>\n",
       "      <td>53</td>\n",
       "      <td>61</td>\n",
       "    </tr>\n",
       "  </tbody>\n",
       "</table>\n",
       "</div>"
      ],
      "text/plain": [
       "    id  female  race  ses  schtyp  prog  read  write  math  science  socst\n",
       "0   70       0     4    1       1     1    57     52    41       47     57\n",
       "1  121       1     4    2       1     3    68     59    53       63     61\n",
       "2   86       0     4    3       1     1    44     33    54       58     31\n",
       "3  141       0     4    3       1     3    63     44    47       53     56\n",
       "4  172       0     4    2       1     2    47     52    57       53     61"
      ]
     },
     "execution_count": 65,
     "metadata": {},
     "output_type": "execute_result"
    }
   ],
   "source": [
    "hsb2.head()"
   ]
  },
  {
   "cell_type": "code",
   "execution_count": 66,
   "id": "5963d533",
   "metadata": {},
   "outputs": [
    {
     "data": {
      "text/plain": [
       "4    145\n",
       "1     24\n",
       "3     20\n",
       "2     11\n",
       "Name: race, dtype: int64"
      ]
     },
     "execution_count": 66,
     "metadata": {},
     "output_type": "execute_result"
    }
   ],
   "source": [
    "hsb2['race'].value_counts()"
   ]
  },
  {
   "cell_type": "code",
   "execution_count": 67,
   "id": "1464ae77",
   "metadata": {},
   "outputs": [
    {
     "data": {
      "text/plain": [
       "race\n",
       "1    46.458333\n",
       "2    58.000000\n",
       "3    48.200000\n",
       "4    54.055172\n",
       "Name: write, dtype: float64"
      ]
     },
     "execution_count": 67,
     "metadata": {},
     "output_type": "execute_result"
    }
   ],
   "source": [
    "hsb2.groupby('race')['write'].mean()"
   ]
  },
  {
   "cell_type": "code",
   "execution_count": 68,
   "id": "f79e3da6",
   "metadata": {},
   "outputs": [],
   "source": [
    "contrast = Treatment(reference=0).code_without_intercept(levels)"
   ]
  },
  {
   "cell_type": "code",
   "execution_count": 69,
   "id": "979d7113",
   "metadata": {},
   "outputs": [
    {
     "name": "stdout",
     "output_type": "stream",
     "text": [
      "[[0. 0. 0.]\n",
      " [1. 0. 0.]\n",
      " [0. 1. 0.]\n",
      " [0. 0. 1.]]\n"
     ]
    }
   ],
   "source": [
    "print(contrast.matrix)"
   ]
  },
  {
   "cell_type": "code",
   "execution_count": 53,
   "id": "3c9b89ee",
   "metadata": {},
   "outputs": [
    {
     "data": {
      "text/plain": [
       "array([[ 0.,  0.,  3.],\n",
       "       [ 0.,  0.,  3.],\n",
       "       [ 0.,  0.,  3.],\n",
       "       [ 0.,  0.,  3.],\n",
       "       [ 0.,  0.,  3.],\n",
       "       [ 0.,  0.,  3.],\n",
       "       [ 0.,  2., -1.],\n",
       "       [-1., -1., -1.],\n",
       "       [ 0.,  0.,  3.],\n",
       "       [ 0.,  2., -1.],\n",
       "       [ 0.,  0.,  3.],\n",
       "       [ 0.,  0.,  3.],\n",
       "       [ 0.,  0.,  3.],\n",
       "       [ 0.,  0.,  3.],\n",
       "       [ 0.,  2., -1.],\n",
       "       [ 0.,  0.,  3.],\n",
       "       [ 0.,  0.,  3.],\n",
       "       [ 0.,  0.,  3.],\n",
       "       [ 0.,  0.,  3.],\n",
       "       [ 0.,  0.,  3.]])"
      ]
     },
     "execution_count": 53,
     "metadata": {},
     "output_type": "execute_result"
    }
   ],
   "source": [
    "contrast.matrix[hsb2.race-1, :][:20]"
   ]
  },
  {
   "cell_type": "code",
   "execution_count": 54,
   "id": "440138e2",
   "metadata": {},
   "outputs": [],
   "source": [
    "mod = ols(\"write ~ C(race, Treatment)\", data=hsb2)"
   ]
  },
  {
   "cell_type": "code",
   "execution_count": 55,
   "id": "efd2d606",
   "metadata": {},
   "outputs": [],
   "source": [
    "res = mod.fit()"
   ]
  },
  {
   "cell_type": "code",
   "execution_count": 56,
   "id": "fd962723",
   "metadata": {},
   "outputs": [
    {
     "name": "stdout",
     "output_type": "stream",
     "text": [
      "                            OLS Regression Results                            \n",
      "==============================================================================\n",
      "Dep. Variable:                  write   R-squared:                       0.107\n",
      "Model:                            OLS   Adj. R-squared:                  0.093\n",
      "Method:                 Least Squares   F-statistic:                     7.833\n",
      "Date:                Sun, 25 Apr 2021   Prob (F-statistic):           5.78e-05\n",
      "Time:                        22:02:10   Log-Likelihood:                -721.77\n",
      "No. Observations:                 200   AIC:                             1452.\n",
      "Df Residuals:                     196   BIC:                             1465.\n",
      "Df Model:                           3                                         \n",
      "Covariance Type:            nonrobust                                         \n",
      "===========================================================================================\n",
      "                              coef    std err          t      P>|t|      [0.025      0.975]\n",
      "-------------------------------------------------------------------------------------------\n",
      "Intercept                  46.4583      1.842     25.218      0.000      42.825      50.091\n",
      "C(race, Treatment)[T.2]    11.5417      3.286      3.512      0.001       5.061      18.022\n",
      "C(race, Treatment)[T.3]     1.7417      2.732      0.637      0.525      -3.647       7.131\n",
      "C(race, Treatment)[T.4]     7.5968      1.989      3.820      0.000       3.675      11.519\n",
      "==============================================================================\n",
      "Omnibus:                       10.487   Durbin-Watson:                   1.779\n",
      "Prob(Omnibus):                  0.005   Jarque-Bera (JB):               11.031\n",
      "Skew:                          -0.551   Prob(JB):                      0.00402\n",
      "Kurtosis:                       2.670   Cond. No.                         8.25\n",
      "==============================================================================\n",
      "\n",
      "Notes:\n",
      "[1] Standard Errors assume that the covariance matrix of the errors is correctly specified.\n"
     ]
    }
   ],
   "source": [
    "print(res.summary())"
   ]
  }
 ],
 "metadata": {
  "kernelspec": {
   "display_name": "Python 3",
   "language": "python",
   "name": "python3"
  },
  "language_info": {
   "codemirror_mode": {
    "name": "ipython",
    "version": 3
   },
   "file_extension": ".py",
   "mimetype": "text/x-python",
   "name": "python",
   "nbconvert_exporter": "python",
   "pygments_lexer": "ipython3",
   "version": "3.8.8"
  }
 },
 "nbformat": 4,
 "nbformat_minor": 5
}
